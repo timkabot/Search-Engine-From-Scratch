{
 "cells": [
  {
   "cell_type": "markdown",
   "metadata": {},
   "source": [
    "### Methods from previous lab:"
   ]
  },
  {
   "cell_type": "code",
   "execution_count": 1,
   "metadata": {},
   "outputs": [],
   "source": [
    "import math\n",
    "import heapq  \n",
    "import numpy as np\n",
    "import matplotlib.pyplot as plt\n",
    "import json\n",
    "import pickle\n",
    "import sklearn\n",
    "from sklearn import metrics\n",
    "from sklearn.feature_extraction.text import TfidfVectorizer\n",
    "import networkx as nx\n",
    "import pandas as pd\n",
    "from nltk.cluster.util import cosine_distance"
   ]
  },
  {
   "cell_type": "code",
   "execution_count": 2,
   "metadata": {},
   "outputs": [],
   "source": [
    "# Colors to output with different color\n",
    "class bcolors:\n",
    "    HEADER = '\\033[95m'\n",
    "    OKBLUE = '\\033[94m'\n",
    "    OKGREEN = '\\033[92m'\n",
    "    WARNING = '\\033[93m'\n",
    "    FAIL = '\\033[91m'\n",
    "    ENDC = '\\033[0m'\n",
    "    BOLD = '\\033[1m'\n",
    "    UNDERLINE = '\\033[4m'"
   ]
  },
  {
   "cell_type": "markdown",
   "metadata": {},
   "source": [
    "NDCG calculation from lab 8"
   ]
  },
  {
   "cell_type": "code",
   "execution_count": 3,
   "metadata": {},
   "outputs": [],
   "source": [
    "#Precision calculation\n",
    "def calculate_precision(predicted, labeled):\n",
    "    true_positives = 0\n",
    "    for e in predicted:\n",
    "        if e in labeled:\n",
    "            true_positives += 1\n",
    "    return true_positives / len(predicted), true_positives\n",
    "\n",
    "#recall calculation\n",
    "def calculate_recall(predicted, labeled):\n",
    "    true_positives = 0\n",
    "    for e in predicted:\n",
    "        if e in labeled:\n",
    "            true_positives += 1\n",
    "    return true_positives / len(labeled)\n",
    "\n",
    "\n",
    "\n",
    "def calculate_R(relevance):\n",
    "    R = {}\n",
    "    for query_id in relevance:\n",
    "        ids_and_scores = relevance[query_id]\n",
    "        for pair in ids_and_scores:\n",
    "            doc_id = pair[0]\n",
    "            score = 5 - pair[1]\n",
    "            R[(query_id, doc_id)] = score\n",
    "    return R\n",
    "\n",
    "\n",
    "def NDCG_calculate(r, m):\n",
    "    numerator = math.pow(2, r) - 1\n",
    "    denominator = math.log2(1 + m)\n",
    "    return numerator / denominator\n",
    "\n",
    "\n",
    "def NDCG(top_k_results, relevance, top_k):\n",
    "    \"\"\"\n",
    "    Computes NDCG score for search results (again chapter 8.4). Here relevance is not considered as binary - the bigger\n",
    "    the judgement score is, the more relevant is the document to a query. Because in our cranfield dataset relevance\n",
    "    judgements are presented in a different way (1 is most relevant, 4 is least), we will invert it, replacing each\n",
    "    score with (5-score). For example, if the score was 2, it becomes 5-2=3.\n",
    "    To find normalization factor for each query, think in this direction - for this particular query what would be an\n",
    "    ideal DCG score? What documents should have (ideally) been returned by the search engine to maximize the DCG score?\n",
    "    When you find it, just normalize the real DCG score by ideal DCG score, that's it.\n",
    "    :param top_k_results: list of lists of ranked results for each query [[doc_id1, doc_id2,...], ...]\n",
    "                          the i-th result corresponds to (i+1)-th query_id. There may be less than top_k\n",
    "                          results returned for a query, but never more.\n",
    "    :param relevance: dict, query_id:[(relevant_doc_id1, score1), (relevant_doc_id2, score2), ...]\n",
    "    :param top_k: (max) number of results retrieved for each query, use this value to find normalization\n",
    "                  factor for each query\n",
    "    :return: NDCG score\n",
    "    \"\"\"    \n",
    "    Q = len(relevance)\n",
    "    R = calculate_R(relevance)\n",
    "    result = 0\n",
    "    for q in range(Q):\n",
    "        query_id = q + 1\n",
    "        labeled = relevance[query_id]\n",
    "        predicted = get_predicted_and_labeled(q, top_k_results, relevance)[0]\n",
    "        # calculate DCG\n",
    "        dcg = 0\n",
    "        for m, document_id in enumerate(predicted[:top_k], 1):\n",
    "            if (query_id, document_id) in R:\n",
    "                dcg += NDCG_calculate(R[(query_id, document_id)], m)\n",
    "\n",
    "        # calulating IDCG\n",
    "        sorted_labeled = sorted(labeled, key=lambda pair: pair[1])  # sort by scores so it simulate ideal situation\n",
    "        idcg = 0\n",
    "        for m, document in enumerate(sorted_labeled[:top_k], 1):\n",
    "            document_id = document[0]\n",
    "            idcg += NDCG_calculate(R[(query_id, document_id)], m)\n",
    "        result += dcg / idcg\n",
    "    return result / Q"
   ]
  },
  {
   "cell_type": "markdown",
   "metadata": {},
   "source": [
    "Eleven points interpolated average from lab 8"
   ]
  },
  {
   "cell_type": "code",
   "execution_count": 4,
   "metadata": {},
   "outputs": [],
   "source": [
    "def eleven_points_interpolated_avg(top_k_results, relevance, plot=True):\n",
    "    \"\"\"\n",
    "    Returns 11-points interpolated average over all queries. Refer to chapter 8.4 for explanation.\n",
    "    First calculate values of precision-recall curve for each query, interpolate them, and average over all queries.\n",
    "    This function is intended to use when for each query all documents are scored until the last relevant element\n",
    "    is met. Because we don't usually score each document, instead retrieving only top-k results, we will adapt\n",
    "    this function. Concretely, if for some query no results are retrieved for some recall level onward\n",
    "    (e.g. starting with 0.7), then we only count in available values, ignoring the rest. In other words, for each\n",
    "    recall level we average only over those queries for which precision is available at this recall level.\n",
    "    Treats relevance judgments as binary - either relevant or not.\n",
    "    :param top_k_results: list of lists of ranked results for each query [[doc_id1, doc_id2,...], ...]\n",
    "                          the i-th result corresponds to (i+1)-th query_id. There may be less than top_k\n",
    "                          results returned for a query, but never more.\n",
    "    :param relevance: dict, query_id:[(relevant_doc_id1, score1), (relevant_doc_id2, score2), ...]\n",
    "    :param plot: whether to plot the graph or not\n",
    "    :return: interpolated_avg, list of 11 values\n",
    "    \"\"\"\n",
    "    interpolated_avg = []\n",
    "    Q = len(relevance)\n",
    "    x = [i / 10 for i in range(11)]  # recall offsets\n",
    "    all_interpolations = []  # consist of dicts with precision,recalls for each query\n",
    "\n",
    "    for q in range(Q):\n",
    "        coordinates = {}  # key -> recall, value->precision\n",
    "        predicted, labeled = get_predicted_and_labeled(q, top_k_results, relevance)\n",
    "        chosen_elements = []\n",
    "        # find coordinates of points (recall, precision)\n",
    "        for document in predicted:\n",
    "            chosen_elements.append(document)\n",
    "\n",
    "            precision_score = calculate_precision(chosen_elements, labeled)[0]\n",
    "            recall_score = calculate_recall(chosen_elements, labeled)\n",
    "\n",
    "            if recall_score not in coordinates:\n",
    "                coordinates[recall_score] = precision_score\n",
    "\n",
    "        # find interpolation\n",
    "        interpolated_coordinates = {}\n",
    "        for i in x:\n",
    "            right_indexes = [p for p in coordinates if p >= i]\n",
    "            if len(right_indexes) == 0:\n",
    "                break\n",
    "            interpolated_coordinates[i] = max([coordinates[index] for index in right_indexes])  # chooses maximum to the right\n",
    "        # save all interpolations to find average in future\n",
    "        all_interpolations.append(interpolated_coordinates)\n",
    "    # finding average value\n",
    "    for i in x:\n",
    "        num_of_precisions = 0\n",
    "        sum_of_precisions = 0\n",
    "        for interpolated_coordinates in all_interpolations:\n",
    "            if(i not in interpolated_coordinates.keys()):\n",
    "                continue\n",
    "            sum_of_precisions += interpolated_coordinates[i]\n",
    "            num_of_precisions += 1\n",
    "        interpolated_avg.append(sum_of_precisions / num_of_precisions)\n",
    "\n",
    "    if plot:\n",
    "        X = np.linspace(0, 1, 11)\n",
    "        plt.plot(X, interpolated_avg)\n",
    "        plt.xlabel('recall')\n",
    "        plt.ylabel('precision')\n",
    "        plt.show()\n",
    "\n",
    "    return interpolated_avg\n"
   ]
  },
  {
   "cell_type": "markdown",
   "metadata": {},
   "source": [
    "Mean Average Precision from lab 8"
   ]
  },
  {
   "cell_type": "code",
   "execution_count": 5,
   "metadata": {},
   "outputs": [],
   "source": [
    "def get_predicted_and_labeled(id, top_k_results, relevance):\n",
    "    query_id = id + 1\n",
    "    predicted = top_k_results[id]\n",
    "    labeled = [e[0] for e in relevance[query_id]]\n",
    "    return predicted, labeled\n",
    "def mean_avg_precision(top_k_results, relevance):\n",
    "    \"\"\"\n",
    "    Calculates MAP score for search results, treating relevance judgments as binary - either relevant or not.\n",
    "    Refer to chapter 8.4 for explanation\n",
    "    :param top_k_results: list of lists of ranked results for each query [[doc_id1, doc_id2,...], ...]\n",
    "                          the i-th result corresponds to (i+1)-th query_id. There may be less than top_k\n",
    "                          results returned for a query, but never more.\n",
    "    :param relevance: dict, query_id:[(relevant_doc_id1, score1), (relevant_doc_id2, score2), ...]\n",
    "    :return: calculated MAP score\n",
    "    \"\"\"\n",
    "    K = len(top_k_results)\n",
    "    result = 0\n",
    "    for k in range(K):\n",
    "        chosen_elements = []\n",
    "        predicted, labeled = get_predicted_and_labeled(k, top_k_results, relevance)\n",
    "        precision_score = 0\n",
    "        for document in predicted:\n",
    "            chosen_elements.append(document)\n",
    "            if document in labeled:\n",
    "                temp_precision_score, relevant_number = calculate_precision(chosen_elements, labeled)\n",
    "                precision_score += temp_precision_score\n",
    "        result += 0 if relevant_number == 0 else precision_score / relevant_number\n",
    "    return result / K\n"
   ]
  },
  {
   "cell_type": "markdown",
   "metadata": {},
   "source": [
    "Read data"
   ]
  },
  {
   "cell_type": "code",
   "execution_count": 6,
   "metadata": {},
   "outputs": [],
   "source": [
    "def read_cranfield(path):\n",
    "    \"\"\"\n",
    "    Helper function, parses Cranfield data. Used for tests. Use it to evaluate your own search engine\n",
    "    :param path: original data path\n",
    "    :return: dictionaries - documents, queries, relevance\n",
    "    relevance comes in form of tuples - query_id:[(relevant_doc_id1, score1), (relevant_doc_id2, score2), ...]\n",
    "    \"\"\"\n",
    "    documents = {}\n",
    "    queries = {}\n",
    "    relevance = {}\n",
    "    for doc in json.load(open(path + 'cranfield_data.json')):\n",
    "        documents[doc['id']] = doc['body']\n",
    "    for query in json.load(open(path + 'cran.qry.json')):\n",
    "        queries[query['query number']] = query['query']\n",
    "    for rel in json.load(open(path + 'cranqrel.json')):\n",
    "        query_id = int(rel['query_num'])\n",
    "        doc_id = int(rel['id'])\n",
    "        if query_id in relevance:\n",
    "            relevance[query_id].append((doc_id, rel['position']))\n",
    "        else:\n",
    "            relevance[query_id] = [(doc_id, rel['position'])]\n",
    "    return documents, queries, relevance"
   ]
  },
  {
   "cell_type": "markdown",
   "metadata": {},
   "source": [
    "### Part 1. Query Expansion:"
   ]
  },
  {
   "cell_type": "markdown",
   "metadata": {},
   "source": [
    "Read data:"
   ]
  },
  {
   "cell_type": "code",
   "execution_count": 7,
   "metadata": {},
   "outputs": [],
   "source": [
    "d, q, relevance = read_cranfield('data/')\n",
    "del q[0]"
   ]
  },
  {
   "cell_type": "markdown",
   "metadata": {},
   "source": [
    "Create corpus from documents"
   ]
  },
  {
   "cell_type": "code",
   "execution_count": 8,
   "metadata": {},
   "outputs": [],
   "source": [
    "corpus_doc = ['']\n",
    "for doc_id in d:\n",
    "    doc = d[doc_id]\n",
    "    corpus_doc.append(doc)"
   ]
  },
  {
   "cell_type": "markdown",
   "metadata": {},
   "source": [
    "Create corpus from queries"
   ]
  },
  {
   "cell_type": "code",
   "execution_count": 9,
   "metadata": {},
   "outputs": [],
   "source": [
    "corpus_queries = ['']\n",
    "for query_id in q:\n",
    "    query = q[query_id]\n",
    "    corpus_queries.append(query)"
   ]
  },
  {
   "cell_type": "markdown",
   "metadata": {},
   "source": [
    "Create vectors:"
   ]
  },
  {
   "cell_type": "code",
   "execution_count": 10,
   "metadata": {},
   "outputs": [],
   "source": [
    "vectorizer = TfidfVectorizer()"
   ]
  },
  {
   "cell_type": "code",
   "execution_count": 11,
   "metadata": {},
   "outputs": [],
   "source": [
    "doc_matrix_t = vectorizer.fit_transform(corpus_doc).todense()\n",
    "query_matrix_t = vectorizer.transform(corpus_queries).todense()"
   ]
  },
  {
   "cell_type": "code",
   "execution_count": 12,
   "metadata": {},
   "outputs": [],
   "source": [
    "doc_matrix = []\n",
    "for i in range(len(doc_matrix_t)):\n",
    "    doc_matrix.append(np.array(doc_matrix_t[i]).reshape(-1,))\n",
    "\n",
    "query_matrix = []\n",
    "for i in range(len(query_matrix_t)):\n",
    "    query_matrix.append(np.array(query_matrix_t[i]).reshape(-1,))\n"
   ]
  },
  {
   "cell_type": "markdown",
   "metadata": {},
   "source": [
    "### The Rocchio algorithm for relevance feedback"
   ]
  },
  {
   "cell_type": "markdown",
   "metadata": {},
   "source": [
    "According to book (Introduction to information retrieval) these are reasonable values\n",
    "![image.png](attachment:image.png)"
   ]
  },
  {
   "cell_type": "code",
   "execution_count": 13,
   "metadata": {},
   "outputs": [],
   "source": [
    "#Coefficients \n",
    "a = 1\n",
    "b = 0.75\n",
    "y = 0.15"
   ]
  },
  {
   "cell_type": "markdown",
   "metadata": {},
   "source": [
    "Cosine scoring formula:\n",
    "![image.png](attachment:image.png)"
   ]
  },
  {
   "cell_type": "code",
   "execution_count": 14,
   "metadata": {},
   "outputs": [],
   "source": [
    "from sklearn.metrics.pairwise import cosine_similarity\n",
    "def my_cosine_similarity(a, b):\n",
    "    dot = np.dot(a, b)\n",
    "    norma = np.linalg.norm(a)\n",
    "    normb = np.linalg.norm(b)\n",
    "    cos = dot / (norma * normb)\n",
    "    return cos"
   ]
  },
  {
   "cell_type": "markdown",
   "metadata": {},
   "source": [
    "Modified query formula"
   ]
  },
  {
   "cell_type": "markdown",
   "metadata": {},
   "source": [
    "![image.png](attachment:image.png)"
   ]
  },
  {
   "cell_type": "code",
   "execution_count": 15,
   "metadata": {},
   "outputs": [],
   "source": [
    "#fiven D_relevant let's find D nonrelevant\n",
    "def find_non_relevant(D_relevant, documents):\n",
    "    res = []\n",
    "    for doc_id in documents:\n",
    "            if doc_id not in D_relevant:\n",
    "                res.append(doc_id)\n",
    "    return res\n",
    "#Relevance feedback by Rocchio\n",
    "def relevance_feedback(queries, documents, relevant):\n",
    "    modified_queries = {}\n",
    "    modified_matrix = []\n",
    "    for query_id in queries:\n",
    "        #extract query vector\n",
    "        q0 = query_matrix[query_id]\n",
    "        #create D relevant\n",
    "        D_relevant = [e[0] for e in relevant[query_id]]\n",
    "        #create D nonrelevant\n",
    "        D_nonrelevant = find_non_relevant(D_relevant,documents)\n",
    "        \n",
    "        #calculate sum of relevant vectors\n",
    "        started = False\n",
    "        for doc_id in D_relevant:\n",
    "            if not started:\n",
    "                sum_of_relevant_vectors = doc_matrix[doc_id].copy()\n",
    "                started = True\n",
    "            else:\n",
    "                sum_of_relevant_vectors += doc_matrix[doc_id]\n",
    "        \n",
    "        #calculate sum of non-relevant vectors\n",
    "        started = False\n",
    "        for doc_id in D_nonrelevant:\n",
    "            if not started:\n",
    "                sum_of_non_relevant_vectors = doc_matrix[doc_id].copy()\n",
    "                started = True\n",
    "            else:\n",
    "                sum_of_non_relevant_vectors += doc_matrix[doc_id]\n",
    "        # Applying formula\n",
    "        first_half  = a * q0 + (b/len(D_relevant) * sum_of_relevant_vectors)\n",
    "        second_half = (y/len(D_nonrelevant)) * sum_of_non_relevant_vectors\n",
    "        qm = first_half - second_half\n",
    "        modified_queries[query_id] = qm\n",
    "        # To avoid null indexes because our query id starts from 1\n",
    "        if query_id == 1:\n",
    "            modified_matrix.append(np.zeros(len(qm)))\n",
    "        modified_matrix.append(qm)\n",
    "    return modified_queries, modified_matrix"
   ]
  },
  {
   "cell_type": "code",
   "execution_count": 16,
   "metadata": {},
   "outputs": [],
   "source": [
    "modified_queries, modified_matrix = relevance_feedback(q, d, relevance)"
   ]
  },
  {
   "cell_type": "code",
   "execution_count": 17,
   "metadata": {
    "scrolled": false
   },
   "outputs": [
    {
     "name": "stdout",
     "output_type": "stream",
     "text": [
      "\u001b[1mAverage cosine similarity between initial and after rocchio algorithm vectors :0.939715788987004\u001b[0m\n"
     ]
    }
   ],
   "source": [
    "avg = 0\n",
    "for i in range(1,len(query_matrix)):\n",
    "    avg += (np.array(cosine_similarity(modified_matrix[i].reshape(1,-1),query_matrix[i].reshape(1,-1))).reshape(-1,)[0])\n",
    "print(bcolors.BOLD + \"Average cosine similarity between initial and after rocchio algorithm vectors :\"+ str(avg/(len(query_matrix)-1)) + bcolors.ENDC)"
   ]
  },
  {
   "cell_type": "code",
   "execution_count": 18,
   "metadata": {
    "scrolled": true
   },
   "outputs": [],
   "source": [
    "def get_top_k_results(vector, id_t, documents):\n",
    "    K = len(relevance[id_t])\n",
    "    results = []\n",
    "    for doc_id in documents:\n",
    "        doc_vector = doc_matrix[doc_id].reshape(1, -1)\n",
    "        results.append((cosine_similarity(vector,doc_vector).reshape(-1,)[0], doc_id))\n",
    "    sorted_by_score = sorted(results, key=lambda tup: tup[0], reverse=True)\n",
    "    sorted_by_score = sorted_by_score[:K]\n",
    "    return [e[1] for e in sorted_by_score], sorted_by_score\n",
    "#get_top_k_results(1, relevance,d)\n",
    "old_results = {}\n",
    "new_results = {}\n",
    "for query_id in q:\n",
    "    vector_new = modified_matrix[query_id].reshape(1, -1)\n",
    "    vector_old = query_matrix[query_id].reshape(1, -1)\n",
    "    old_results[query_id] = get_top_k_results(vector_old,query_id, d)[0]\n",
    "    new_results[query_id] = get_top_k_results(vector_new,query_id, d)[0]"
   ]
  },
  {
   "cell_type": "code",
   "execution_count": 19,
   "metadata": {},
   "outputs": [],
   "source": [
    "top_k_results_new = []\n",
    "top_k_results_old = []\n",
    "for i in range(len(q)):\n",
    "    top_k_results_new.append(new_results[i+1])\n",
    "    top_k_results_old.append(old_results[i+1])"
   ]
  },
  {
   "cell_type": "markdown",
   "metadata": {},
   "source": [
    "## Here you can see compared statistics with Rocchio"
   ]
  },
  {
   "cell_type": "markdown",
   "metadata": {},
   "source": [
    "Mean average precision"
   ]
  },
  {
   "cell_type": "code",
   "execution_count": 20,
   "metadata": {
    "scrolled": true
   },
   "outputs": [
    {
     "name": "stdout",
     "output_type": "stream",
     "text": [
      "\u001b[1m0.66310610429592260.8910033404042107\u001b[0m\n",
      "\u001b[1m0.22789723610828805 = improvement with Rocchio\u001b[0m\n"
     ]
    }
   ],
   "source": [
    "print(bcolors.BOLD + str(mean_avg_precision(top_k_results_old,relevance)) +  str(mean_avg_precision(top_k_results_new,relevance)) + bcolors.ENDC )\n",
    "print(bcolors.BOLD + str(mean_avg_precision(top_k_results_new,relevance) - mean_avg_precision(top_k_results_old,relevance)) + \" = improvement with Rocchio\"+ bcolors.ENDC)"
   ]
  },
  {
   "cell_type": "markdown",
   "metadata": {},
   "source": [
    "NDCG scores (number K is equal 30 by tests from previous lav)"
   ]
  },
  {
   "cell_type": "code",
   "execution_count": 21,
   "metadata": {},
   "outputs": [
    {
     "name": "stdout",
     "output_type": "stream",
     "text": [
      "\u001b[1m0.45203741532461570.6930290561340531\n",
      "0.24099164080943736 Improvement with Rocchio\n"
     ]
    }
   ],
   "source": [
    "print(bcolors.BOLD + str(NDCG(top_k_results_old,relevance,30)) + str(NDCG(top_k_results_new,relevance,30)))\n",
    "print(NDCG(top_k_results_new,relevance,30) - NDCG(top_k_results_old,relevance,30), \"Improvement with Rocchio\")\n"
   ]
  },
  {
   "cell_type": "markdown",
   "metadata": {},
   "source": [
    " eleven interpolated points Interpolated"
   ]
  },
  {
   "cell_type": "code",
   "execution_count": 22,
   "metadata": {},
   "outputs": [
    {
     "name": "stdout",
     "output_type": "stream",
     "text": [
      "\u001b[1mBefore Rocchio\n"
     ]
    },
    {
     "data": {
      "image/png": "[encoded data removed]",
      "text/plain": [
       "<Figure size 432x288 with 1 Axes>"
      ]
     },
     "metadata": {
      "needs_background": "light"
     },
     "output_type": "display_data"
    },
    {
     "name": "stdout",
     "output_type": "stream",
     "text": [
      "\u001b[1mAfter Rocchio\n"
     ]
    },
    {
     "data": {
      "image/png": "[encoded data removed]",
      "text/plain": [
       "<Figure size 432x288 with 1 Axes>"
      ]
     },
     "metadata": {
      "needs_background": "light"
     },
     "output_type": "display_data"
    },
    {
     "name": "stdout",
     "output_type": "stream",
     "text": [
      "[ 0.2157958   0.12162776  0.11295362  0.08958729  0.09586451  0.0666206\n",
      "  0.10119686  0.02633146 -0.00961699  0.00803922  0.        ]  = improvement in each region\n"
     ]
    }
   ],
   "source": [
    "print(bcolors.BOLD + \"Before Rocchio\")\n",
    "before = np.array(eleven_points_interpolated_avg(top_k_results_old,relevance))\n",
    "print(bcolors.BOLD +\"After Rocchio\")\n",
    "after = np.array(eleven_points_interpolated_avg(top_k_results_new,relevance))\n",
    "print(after - before , \" = improvement in each region\")"
   ]
  },
  {
   "cell_type": "markdown",
   "metadata": {},
   "source": [
    "## Pseudo relevance feedback and statistics"
   ]
  },
  {
   "cell_type": "code",
   "execution_count": 23,
   "metadata": {},
   "outputs": [],
   "source": [
    "pseudo_relevant = {}\n",
    "for query_id in q:\n",
    "    top_k = top_k_results_old[query_id-1]\n",
    "    top_k = [ (i,1) for i in top_k ]\n",
    "    pseudo_relevant[query_id] = top_k\n",
    "pseudo_modified_queries, pseudo_modified_matrix = relevance_feedback(q, d, pseudo_relevant)\n",
    "\n",
    "#get_top_k_results(1, relevance,d)\n",
    "pseudo_new_results = {}\n",
    "for query_id in q:\n",
    "    vector_new = pseudo_modified_matrix[query_id].reshape(1, -1)\n",
    "    pseudo_new_results[query_id] = get_top_k_results(vector_new,query_id, d)[0]\n",
    "    \n",
    "pseudo_top_k_results_new = []\n",
    "for i in range(len(q)):\n",
    "    pseudo_top_k_results_new.append(pseudo_new_results[i+1])\n"
   ]
  },
  {
   "cell_type": "code",
   "execution_count": 24,
   "metadata": {},
   "outputs": [
    {
     "name": "stdout",
     "output_type": "stream",
     "text": [
      "\u001b[1mAverage cosine similarity between initial and after pseudo algorithm vectors :0.9476209907692038\n"
     ]
    }
   ],
   "source": [
    "avg = 0\n",
    "for i in range(1,len(query_matrix)):\n",
    "    avg += (np.array(cosine_similarity(pseudo_modified_matrix[i].reshape(1,-1),query_matrix[i].reshape(1,-1))).reshape(-1,)[0])\n",
    "print(bcolors.BOLD + \"Average cosine similarity between initial and after pseudo algorithm vectors :\" + str(avg/(len(query_matrix)-1)))"
   ]
  },
  {
   "cell_type": "code",
   "execution_count": 25,
   "metadata": {},
   "outputs": [
    {
     "name": "stdout",
     "output_type": "stream",
     "text": [
      "\u001b[1mMean Average Precision\n",
      "\u001b[1m0.66310610429592260.6667813237570793\n",
      "0.0036752194611566757  = improvement with Pseudo relevant\n"
     ]
    }
   ],
   "source": [
    "print(bcolors.BOLD + \"Mean Average Precision\")\n",
    "print(bcolors.BOLD + str(mean_avg_precision(top_k_results_old,relevance)) +  str(mean_avg_precision(pseudo_top_k_results_new,relevance)))\n",
    "print(mean_avg_precision(pseudo_top_k_results_new,relevance) - mean_avg_precision(top_k_results_old,relevance), \" = improvement with Pseudo relevant\")"
   ]
  },
  {
   "cell_type": "code",
   "execution_count": 26,
   "metadata": {},
   "outputs": [
    {
     "name": "stdout",
     "output_type": "stream",
     "text": [
      "\u001b[1mNDCG\n",
      "\u001b[1m0.45203741532461570.4518320111052615\n",
      "-0.0002054042193542216 Improvement with pseudo relevant\n"
     ]
    }
   ],
   "source": [
    "print(bcolors.BOLD +\"NDCG\")\n",
    "print(bcolors.BOLD + str(NDCG(top_k_results_old,relevance,30)) + str(NDCG(pseudo_top_k_results_new,relevance,30)))\n",
    "print(NDCG(pseudo_top_k_results_new,relevance,30) - NDCG(top_k_results_old,relevance,30), \"Improvement with pseudo relevant\")"
   ]
  },
  {
   "cell_type": "code",
   "execution_count": 27,
   "metadata": {},
   "outputs": [
    {
     "name": "stdout",
     "output_type": "stream",
     "text": [
      "\u001b[1mBefore Pseudo Relevant\n"
     ]
    },
    {
     "data": {
      "image/png": "[encoded data removed]",
      "text/plain": [
       "<Figure size 432x288 with 1 Axes>"
      ]
     },
     "metadata": {
      "needs_background": "light"
     },
     "output_type": "display_data"
    },
    {
     "name": "stdout",
     "output_type": "stream",
     "text": [
      "\u001b[1mAfter Pseudo Relevant\n"
     ]
    },
    {
     "data": {
      "image/png": "[encoded data removed]",
      "text/plain": [
       "<Figure size 432x288 with 1 Axes>"
      ]
     },
     "metadata": {
      "needs_background": "light"
     },
     "output_type": "display_data"
    },
    {
     "name": "stdout",
     "output_type": "stream",
     "text": [
      "[ 0.2157958   0.12162776  0.11295362  0.08958729  0.09586451  0.0666206\n",
      "  0.10119686  0.02633146 -0.00961699  0.00803922  0.        ]  = improvement in each region\n"
     ]
    }
   ],
   "source": [
    "print(bcolors.BOLD +\"Before Pseudo Relevant\")\n",
    "before = np.array(eleven_points_interpolated_avg(top_k_results_old,relevance))\n",
    "print(bcolors.BOLD +\"After Pseudo Relevant\")\n",
    "after = np.array(eleven_points_interpolated_avg(top_k_results_new,relevance))\n",
    "print(after - before , \" = improvement in each region\")"
   ]
  },
  {
   "cell_type": "markdown",
   "metadata": {},
   "source": [
    "## Global method expanding queries by Wordnet by adding synonyms for every token after removing stop words, and lemmatizing"
   ]
  },
  {
   "cell_type": "code",
   "execution_count": 28,
   "metadata": {},
   "outputs": [
    {
     "name": "stderr",
     "output_type": "stream",
     "text": [
      "[nltk_data] Downloading package wordnet to\n",
      "[nltk_data]     C:\\Users\\Timkabor\\AppData\\Roaming\\nltk_data...\n",
      "[nltk_data]   Package wordnet is already up-to-date!\n",
      "[nltk_data] Downloading package stopwords to\n",
      "[nltk_data]     C:\\Users\\Timkabor\\AppData\\Roaming\\nltk_data...\n",
      "[nltk_data]   Package stopwords is already up-to-date!\n",
      "[nltk_data] Downloading package averaged_perceptron_tagger to\n",
      "[nltk_data]     C:\\Users\\Timkabor\\AppData\\Roaming\\nltk_data...\n",
      "[nltk_data]   Package averaged_perceptron_tagger is already up-to-\n",
      "[nltk_data]       date!\n",
      "[nltk_data] Downloading package punkt to\n",
      "[nltk_data]     C:\\Users\\Timkabor\\AppData\\Roaming\\nltk_data...\n",
      "[nltk_data]   Package punkt is already up-to-date!\n"
     ]
    },
    {
     "data": {
      "text/plain": [
       "True"
      ]
     },
     "execution_count": 28,
     "metadata": {},
     "output_type": "execute_result"
    }
   ],
   "source": [
    "import string\n",
    "import itertools\n",
    "import nltk\n",
    "from nltk.corpus import wordnet\n",
    "from nltk.tokenize import  word_tokenize\n",
    "from nltk.corpus import stopwords\n",
    "from nltk.stem.porter import *\n",
    "from nltk.stem.snowball import SnowballStemmer\n",
    "\n",
    "#NLTK downloads\n",
    "nltk.download('wordnet')\n",
    "nltk.download('stopwords')\n",
    "nltk.download('averaged_perceptron_tagger')\n",
    "nltk.download('punkt')"
   ]
  },
  {
   "cell_type": "code",
   "execution_count": 29,
   "metadata": {},
   "outputs": [],
   "source": [
    "def get_wordnet_pos(treebank_tag):\n",
    "    if treebank_tag[1].startswith('J'):\n",
    "        return wordnet.ADJ\n",
    "    elif treebank_tag[1].startswith('V'):\n",
    "        return wordnet.VERB\n",
    "    elif treebank_tag[1].startswith('N'):\n",
    "        return wordnet.NOUN\n",
    "    elif treebank_tag[1].startswith('R'):\n",
    "        return wordnet.ADV\n",
    "    else:\n",
    "        return ''"
   ]
  },
  {
   "cell_type": "code",
   "execution_count": 30,
   "metadata": {},
   "outputs": [],
   "source": [
    "stemmer = SnowballStemmer(\"english\")\n",
    "query_expansions = {}\n",
    "for query_id in q:\n",
    "    \n",
    "    query = q[query_id]\n",
    "    #tokenize query\n",
    "    word_tokens = word_tokenize(query)\n",
    "        \n",
    "    #remove stopwords\n",
    "    filtered_words = [word for word in word_tokens if word not in stopwords.words('english')]\n",
    "    \n",
    "    # pos tagging of tokens\n",
    "    pos = nltk.pos_tag(filtered_words)\n",
    "    \n",
    "    # synonyms of tokens\n",
    "    synonyms = []  \n",
    "       \n",
    "    index = 0\n",
    "    # iterating through the tokens\n",
    "    for item in filtered_words:\n",
    "            #synonim sets\n",
    "            synsets = wordnet.synsets(item)\n",
    "            if not synsets:\n",
    "                # stemming the tokens in the query\n",
    "                synsets = wordnet.synsets(stemmer.stem(item))\n",
    "            \n",
    "            # synonyms of the current token\n",
    "            currentSynonyms = []\n",
    "            currentPOS = get_wordnet_pos(pos[index])\n",
    "            \n",
    "            # iterating through the synsets\n",
    "            for i in synsets:\n",
    "                # first we check if token and synset have the same part of speech\n",
    "                if str(i.pos()) == str(currentPOS):\n",
    "                    for j in i.lemmas():\n",
    "                        if j.name() not in currentSynonyms:  # if we have not\n",
    "                            currentSynonyms.append(j.name().replace(\"_\", \" \"))\n",
    "                synonyms.append(currentSynonyms[:2])\n",
    "            index += 1\n",
    "            \n",
    "            # removing duplicate lists in the synonyms list\n",
    "            tmp = []\n",
    "            for elem in synonyms:\n",
    "                if elem and elem not in tmp:\n",
    "                    tmp.append(elem)\n",
    "            synonyms = tmp\n",
    "            \n",
    "              # now that we have all the synonyms\n",
    "            s = []\n",
    "            for x in itertools.product(*synonyms):\n",
    "                current = \"\"\n",
    "                for item in x:\n",
    "                    current += item\n",
    "                    current += \" \"\n",
    "                s.append(current)\n",
    "                if(len(s)>4):\n",
    "                    break\n",
    "            query_expansions[query_id] = s\n",
    "\n",
    "# Now we have synonym queries for each of our query           "
   ]
  },
  {
   "cell_type": "code",
   "execution_count": 31,
   "metadata": {},
   "outputs": [],
   "source": [
    "def get_top_k_results_with_synonyms(id_t, documents):\n",
    "    synonym_query_matrix_t = vectorizer.transform(query_expansions[id_t]).todense()\n",
    "    synonym_query_matrix = []\n",
    "    synonym_vectors = []\n",
    "    synonym_vectors.append(query_matrix[query_id].reshape(1, -1))\n",
    "    \n",
    "    #transform our vector to the shape that built in cosine similarity needs\n",
    "    for i in range(len(synonym_query_matrix_t)):\n",
    "        element = np.array(synonym_query_matrix_t[i]).reshape(-1,)\n",
    "        element_for_cosine_similarity = element.reshape(1, -1)\n",
    "        synonym_vectors.append(element_for_cosine_similarity)\n",
    "    # add synonym vectors\n",
    "    res = []\n",
    "    for i in synonym_vectors:\n",
    "        res+= (get_top_k_results(i,id_t,documents)[1])\n",
    "    # get best synonym vector by score\n",
    "    res = sorted(res, key=lambda tup: tup[0], reverse=True)\n",
    "    \n",
    "    # Filter of repeating vectors from all synonym queries\n",
    "    used = {}\n",
    "    final_res = []\n",
    "    for i in res:\n",
    "        if(i[1] not in used.keys()):\n",
    "            used[i[1]] = True\n",
    "            final_res.append(i[1])\n",
    "    return final_res[0 : len(relevance[id_t])]"
   ]
  },
  {
   "cell_type": "code",
   "execution_count": 32,
   "metadata": {},
   "outputs": [],
   "source": [
    "#get_top_k_results(1, relevance,d)\n",
    "top_k_results_with_synonyms = []\n",
    "for query_id in q:\n",
    "    top_k_results_with_synonyms.append(get_top_k_results_with_synonyms(query_id,d))"
   ]
  },
  {
   "cell_type": "markdown",
   "metadata": {},
   "source": [
    "## Statistics of Global method"
   ]
  },
  {
   "cell_type": "code",
   "execution_count": 33,
   "metadata": {},
   "outputs": [
    {
     "name": "stdout",
     "output_type": "stream",
     "text": [
      "\u001b[1mMean Average Precision\n",
      "\u001b[1m0.66310610429592260.637714249038816\n",
      "-0.025391855257106632  = improvement with Global method\n"
     ]
    }
   ],
   "source": [
    "print(bcolors.BOLD + \"Mean Average Precision\")\n",
    "print(bcolors.BOLD + str(mean_avg_precision(top_k_results_old,relevance)) + str(mean_avg_precision(top_k_results_with_synonyms,relevance)))\n",
    "print(mean_avg_precision(top_k_results_with_synonyms,relevance) - mean_avg_precision(top_k_results_old,relevance), \" = improvement with Global method\")"
   ]
  },
  {
   "cell_type": "code",
   "execution_count": 34,
   "metadata": {},
   "outputs": [
    {
     "name": "stdout",
     "output_type": "stream",
     "text": [
      "\u001b[1mNDCG\n",
      "\u001b[1m0.45203741532461570.4278542345290069\n",
      "-0.024183180795608827 improvement with Global method\n"
     ]
    }
   ],
   "source": [
    "print(bcolors.BOLD + \"NDCG\")\n",
    "print(bcolors.BOLD + str(NDCG(top_k_results_old,relevance,30))+ str(NDCG(top_k_results_with_synonyms,relevance,30)))\n",
    "print(NDCG(top_k_results_with_synonyms,relevance,30) - NDCG(top_k_results_old,relevance,30), \"improvement with Global method\")"
   ]
  },
  {
   "cell_type": "code",
   "execution_count": 35,
   "metadata": {},
   "outputs": [
    {
     "name": "stdout",
     "output_type": "stream",
     "text": [
      "\u001b[1mBefore Global\n"
     ]
    },
    {
     "data": {
      "image/png": "[encoded data removed]",
      "text/plain": [
       "<Figure size 432x288 with 1 Axes>"
      ]
     },
     "metadata": {
      "needs_background": "light"
     },
     "output_type": "display_data"
    },
    {
     "name": "stdout",
     "output_type": "stream",
     "text": [
      "After Global\n"
     ]
    },
    {
     "data": {
      "image/png": "[encoded data removed]",
      "text/plain": [
       "<Figure size 432x288 with 1 Axes>"
      ]
     },
     "metadata": {
      "needs_background": "light"
     },
     "output_type": "display_data"
    },
    {
     "name": "stdout",
     "output_type": "stream",
     "text": [
      "[ 0.2157958   0.12162776  0.11295362  0.08958729  0.09586451  0.0666206\n",
      "  0.10119686  0.02633146 -0.00961699  0.00803922  0.        ]  = improvement in each region\n"
     ]
    }
   ],
   "source": [
    "print(bcolors.BOLD +\"Before Global\")\n",
    "before = np.array(eleven_points_interpolated_avg(top_k_results_old,relevance))\n",
    "print(\"After Global\")\n",
    "after = np.array(eleven_points_interpolated_avg(top_k_results_new,relevance))\n",
    "print(after - before , \" = improvement in each region\")"
   ]
  },
  {
   "cell_type": "markdown",
   "metadata": {},
   "source": [
    "# Part 2 Document summarization"
   ]
  },
  {
   "cell_type": "markdown",
   "metadata": {},
   "source": [
    "## First summary method using weights of words"
   ]
  },
  {
   "cell_type": "code",
   "execution_count": 36,
   "metadata": {},
   "outputs": [],
   "source": [
    "#This function converts document to sentences array\n",
    "from nltk.tokenize import sent_tokenize\n",
    "from nltk import word_tokenize\n",
    "stop_words = stopwords.words('english')\n",
    "#Delete stopwords\n",
    "def delete_stopwords(sentence):\n",
    "    result = \" \".join([i for i in sentence if i not in stop_words])\n",
    "    return result\n",
    "#This function converts document to array of sentences\n",
    "def convert_document_to_sentences(doc):\n",
    "    sentences = []\n",
    "    sentences.append(sent_tokenize(doc)) \n",
    "    sentences = [y for x in sentences for y in x]\n",
    "    clean_sentences = pd.Series(sentences).str.replace(\"[^a-zA-Z]\", \" \")\n",
    "    clean_sentences = [a.lower() for a in clean_sentences]\n",
    "    clean_sentences = [delete_stopwords(r.split()) for r in clean_sentences]\n",
    "    return sentences"
   ]
  },
  {
   "cell_type": "code",
   "execution_count": 37,
   "metadata": {},
   "outputs": [],
   "source": [
    "# get dictionary of word counts from document\n",
    "def get_word_counts(doc):\n",
    "    count = {}  \n",
    "    for word in word_tokenize(doc):  \n",
    "        if word not in stop_words:\n",
    "            if word not in count.keys():\n",
    "                count[word] = 1\n",
    "            else:\n",
    "                count[word] += 1\n",
    "    #normalize counts           \n",
    "    for word in count.keys():  \n",
    "        count[word] = count[word]/max(count.values())\n",
    "    return count"
   ]
  },
  {
   "cell_type": "code",
   "execution_count": 38,
   "metadata": {},
   "outputs": [],
   "source": [
    "#get sentence score using our word counts\n",
    "def get_sentence_scores(sentences, word_counts):\n",
    "    result = {}  \n",
    "    for s in sentences:  \n",
    "        for word in nltk.word_tokenize(s):\n",
    "            if word in word_counts.keys():\n",
    "                if len(s.split(' ')) < 25:\n",
    "                    if s not in result.keys():\n",
    "                        result[s] = word_counts[word]\n",
    "                    else:\n",
    "                        result[s] += word_counts[word]\n",
    "    return result"
   ]
  },
  {
   "cell_type": "code",
   "execution_count": 39,
   "metadata": {},
   "outputs": [],
   "source": [
    "def get_summary_with_weightening(doc, top_k):   \n",
    "    sentences = convert_document_to_sentences(doc)\n",
    "    word_counts = get_word_counts(doc)\n",
    "    sentence_scores = get_sentence_scores(sentences, word_counts)\n",
    "    summary_sentences = heapq.nlargest(top_k, sentence_scores, key=sentence_scores.get)\n",
    "    summary = ' '.join(summary_sentences)  \n",
    "    return summary  "
   ]
  },
  {
   "cell_type": "code",
   "execution_count": 40,
   "metadata": {},
   "outputs": [],
   "source": [
    "def get_summary_results(query_id, summary_function, top_k):\n",
    "    query = q[query_id]\n",
    "    print(\"Your query is \" + bcolors.BOLD +  query + bcolors.ENDC)\n",
    "    index = 1\n",
    "    for doc_id in top_k_results_new[query_id-1][:top_k]:\n",
    "        print( bcolors.BOLD +  str(index) + \" with doc id = \" + str(doc_id) +  \" )\" + bcolors.ENDC)\n",
    "        print(summary_function(*(d[doc_id],top_k)))\n",
    "        index += 1"
   ]
  },
  {
   "cell_type": "code",
   "execution_count": 41,
   "metadata": {},
   "outputs": [
    {
     "name": "stdout",
     "output_type": "stream",
     "text": [
      "Your query is \u001b[1mwhat similarity laws must be obeyed when constructing aeroelastic models of heated high speed aircraft .\u001b[0m\n",
      "\u001b[1m1 with doc id = 184 )\u001b[0m\n",
      "automatic programmed control of the tunnel would appear to be necessary . experimental and analytical work is required to check on the validity of these assumptions . it is concluded that complete similarity obtains only when aircraft and model are identical in all respects, including size . an investigation is made of the parameters to be satisfied for thermo-aeroelastic similarity . scale models for thermo-aeroelastic research .\n",
      "\u001b[1m2 with doc id = 13 )\u001b[0m\n",
      "the loading on the unheated analog wing is, however, complicated and involves the novel concept of feedback and /body force/ loading . the problem of stressing a heated box-wing structure can be solved by the same analog method and is briefly discussed . similarity laws for stressing heated wings .\n",
      "\u001b[1m3 with doc id = 12 )\u001b[0m\n",
      "methods of attacking and alleviating structural and aeroelastic problems of high-speed flight are summarized . the dominating factors in structural design of high-speed aircraft are thermal and aeroelastic in origin . finally, some avenues of fundamental research are suggested . the subject matter is concerned largely with a discussion of these factors and their interrelation with one another . some structural and aerelastic considerations of high speed flight .\n",
      "\u001b[1m4 with doc id = 51 )\u001b[0m\n",
      "theory of aircraft structural models subjected to aerodynamic heating and external loads . external loads will be similar to those of the aircraft .\n",
      "\u001b[1m5 with doc id = 486 )\u001b[0m\n",
      "some numerical examples of modeling for the general aerothermoelastic case as well as for the specialized situations mentioned in (1) above are given . finally, extension of the aerothermoelastic similarity laws to higher speeds and temperatures is discussed . the primary conflict occurs between the free-stream mach number reynolds number aeroelastic parameter heat conduction parameter and thermal expansion parameter . the similarity laws for aerothermoelastic testing are presented in the range . similarity laws for aerothermoelastic testing .\n",
      "None\n"
     ]
    }
   ],
   "source": [
    "print(get_summary_results(1,get_summary_with_weightening,5))"
   ]
  },
  {
   "cell_type": "markdown",
   "metadata": {},
   "source": [
    "## 2nd Summary Method Using Cosine Similarity"
   ]
  },
  {
   "cell_type": "code",
   "execution_count": 42,
   "metadata": {},
   "outputs": [],
   "source": [
    "def sentence_similarity(sentence_1, sentence_2):\n",
    "    sentence_1 = sentence_1.replace(\"[^a-zA-Z]\", \" \").replace(\".\",\"\").split(\" \")\n",
    "    sentence_2 = sentence_2.replace(\"[^a-zA-Z]\", \" \").replace(\".\",\"\").split(\" \")\n",
    "    \n",
    "    union = set(sentence_1 + sentence_2)\n",
    "    union = list(union)\n",
    "     \n",
    "    sentence_vector_1 = []\n",
    "    for i in range(len(union)):\n",
    "        sentence_vector_1.append(0)\n",
    "    sentence_vector_2 = sentence_vector_1.copy()\n",
    " \n",
    "    # build the vector for the first sentence\n",
    "    for w in sentence_1:\n",
    "        sentence_vector_1[union.index(w)] += 1\n",
    "    # build the vector for the second sentence\n",
    "    for w in sentence_2:\n",
    "        sentence_vector_2[union.index(w)] += 1\n",
    "\n",
    "        return  my_cosine_similarity(sentence_vector_1,sentence_vector_2)\n",
    "\n",
    "def build_similarity_matrix(sentences):\n",
    "    # Create an empty similarity matrix\n",
    "    similarity_matrix = np.zeros((len(sentences), len(sentences)))\n",
    " \n",
    "    for x in range(len(sentences)):\n",
    "        for y in range(len(sentences)):\n",
    "            if x != y: \n",
    "                similarity_matrix[x][y] = sentence_similarity(sentences[x], sentences[y])\n",
    "\n",
    "    return similarity_matrix"
   ]
  },
  {
   "cell_type": "code",
   "execution_count": 54,
   "metadata": {},
   "outputs": [],
   "source": [
    "def get_summary_with_cosine_similarity(doc,top_k):   \n",
    "    result = []\n",
    "    sentences = convert_document_to_sentences(doc)\n",
    "    sentence_similarity_martix = build_similarity_matrix(sentences)\n",
    "    sentence_similarity_graph = nx.from_numpy_array(sentence_similarity_martix)\n",
    "    \n",
    "    # apply pagerank algorithm to find scores of sentences\n",
    "    scores = nx.pagerank(sentence_similarity_graph)\n",
    "    # try t\n",
    "    sentence_similarity_graph = nx.from_numpy_array(sentence_similarity_martix)\n",
    "    nx.draw(sentence_similarity_graph)\n",
    "    ranked_sentence = sorted(((scores[i],s) for i,s in enumerate(sentences)), reverse=True)    \n",
    "\n",
    "    for i in range(min(top_k, len(ranked_sentence))):\n",
    "        result.append(\"\".join(ranked_sentence[i][1]))\n",
    "    return \". \".join(result)"
   ]
  },
  {
   "cell_type": "markdown",
   "metadata": {},
   "source": [
    "## Here you can see the example of sentence similarity graoh"
   ]
  },
  {
   "cell_type": "code",
   "execution_count": 55,
   "metadata": {},
   "outputs": [
    {
     "data": {
      "text/plain": [
       "'an empirical evaluation of the destalling effects was made for the specific configuration of the experiment .'"
      ]
     },
     "execution_count": 55,
     "metadata": {},
     "output_type": "execute_result"
    },
    {
     "data": {
      "image/png": "[encoded data removed]",
      "text/plain": [
       "<Figure size 432x288 with 1 Axes>"
      ]
     },
     "metadata": {},
     "output_type": "display_data"
    }
   ],
   "source": [
    "get_summary_with_cosine_similarity(d[1],1)"
   ]
  },
  {
   "cell_type": "code",
   "execution_count": 62,
   "metadata": {},
   "outputs": [
    {
     "name": "stdout",
     "output_type": "stream",
     "text": [
      "Your query is \u001b[1mwhat similarity laws must be obeyed when constructing aeroelastic models of heated high speed aircraft .\u001b[0m\n",
      "\u001b[1m1 with doc id = 184 )\u001b[0m\n",
      "by limiting consideration to conduction effects, by assuming the major load carrying parts of the structure are in regions where the flow is either entirely laminar, or entirely turbulent, and by assuming a specific relationship between reynolds number and nusselt number, an approach to similarity can be achieved for small scale models .. it is concluded that complete similarity obtains only when aircraft and model are identical in all respects, including size .. it appears that existing hot wind tunnels will not be completely adequate for thermo-aeroelastic work, and accordingly a possible layout for the type of tunnel required is described .. scale models for thermo-aeroelastic research .. an investigation is made of the parameters to be satisfied for thermo-aeroelastic similarity .\n",
      "\u001b[1m2 with doc id = 13 )\u001b[0m\n",
      "the problem of stressing a heated box-wing structure can be solved by the same analog method and is briefly discussed .. the loading on the unheated analog wing is, however, complicated and involves the novel concept of feedback and /body force/ loading .. this fact leads to the result that the stresses in the heated plate can be calculated from measured strains on the unheated plate by a series of relations, called the /similarity laws ./  the application of this analog theory to solid wings under aerodynamic heating is discussed in detail .. it will be shown that the differential equations for a heated plate with large temperature gradient and for a similar plate at constant temperature can be made the same by a proper modification of the thickness and the loading for the isothermal plate .. similarity laws for stressing heated wings .\n",
      "\u001b[1m3 with doc id = 12 )\u001b[0m\n",
      "the state of the art with respect to heat transfer from the boundary layer into the structure, modes of failure under combined load as well as thermal inputs and acrothermoelasticity is discussed .. a summary is presented of some of the analytical and experimental tools available to aeronautical engineers to meet the demands of high-speed flight upon aircraft structures .. the subject matter is concerned largely with a discussion of these factors and their interrelation with one another .. the dominating factors in structural design of high-speed aircraft are thermal and aeroelastic in origin .. some structural and aerelastic considerations of high speed flight .\n",
      "\u001b[1m4 with doc id = 51 )\u001b[0m\n",
      "the problem of investigating the simultaneous effects of transient aerodynamic heating and external loads on aircraft structures for the purpose of determining the ability of the structure to withstand flight to supersonic speeds is studied .. subjected to heating and cooling that correctly simulate the aerodynamic heating of the aircraft, except with respect to angular velocities and angular accelerations, without requiring determination of the heat flux at each point on the surface and its variation with time .. external loads will be similar to those of the aircraft .. acting on the aerodynamically heated structural model to those acting on the aircraft is determined for the case of zero angular velocity and zero angular acceleration, so that the structural model may be subjected to the external loads required for simultaneous simulation of stresses and deformations due to external loads .. by dimensional analyses it is shown that .. constructed of the same materials as the aircraft will be thermally similar to the aircraft with respect to the flow of heat through the structure will be similar to those of the aircraft when the structural model is constructed at the same temperature as the aircraft .\n",
      "\u001b[1m5 with doc id = 486 )\u001b[0m\n",
      "the similarity laws for aerothermoelastic testing are presented in the range .. the primary conflict occurs between the free-stream mach number reynolds number aeroelastic parameter heat conduction parameter and thermal expansion parameter .. for the general aerothermoelastic model, where the model is placed in a high-stagnation-temperature wind tunnel, similitude is shown to be very difficult to achieve for a scale ratio other than unity .. these are obtained by making nondimensional the appropriate governing equations of the individual external aerodynamic flow, heat conduction to the interior, and stress-deflection problems which make up the combined aerothermoelastic problem .. these include (1) looking at more specialized situations, such as the behavior of wing structures and of thin solid plate lifting surfaces, and panel flutter, where the aerothermoelastic similarity parameters assume less restrictive forms, (2) the use of /incomplete aerothermoelastic/ testing in which the pressure and/or heating rates are estimated in advance and applied artificially to the model, and (3) the use of /restricted purpose/ models investigating separately one or another facet of the complete aerothermoelastic problem .\n",
      "None\n"
     ]
    },
    {
     "data": {
      "image/png": "[encoded data removed]",
      "text/plain": [
       "<Figure size 432x288 with 1 Axes>"
      ]
     },
     "metadata": {},
     "output_type": "display_data"
    }
   ],
   "source": [
    "print(get_summary_results(1, get_summary_with_cosine_similarity,5))\n"
   ]
  },
  {
   "cell_type": "code",
   "execution_count": null,
   "metadata": {},
   "outputs": [],
   "source": []
  },
  {
   "cell_type": "code",
   "execution_count": null,
   "metadata": {},
   "outputs": [],
   "source": []
  }
 ],
 "metadata": {
  "kernelspec": {
   "display_name": "Python 3",
   "language": "python",
   "name": "python3"
  },
  "language_info": {
   "codemirror_mode": {
    "name": "ipython",
    "version": 3
   },
   "file_extension": ".py",
   "mimetype": "text/x-python",
   "name": "python",
   "nbconvert_exporter": "python",
   "pygments_lexer": "ipython3",
   "version": "3.7.3"
  }
 },
 "nbformat": 4,
 "nbformat_minor": 2
}
